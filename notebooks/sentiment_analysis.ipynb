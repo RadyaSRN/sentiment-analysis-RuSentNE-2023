{
  "metadata": {
    "kernelspec": {
      "name": "python3",
      "display_name": "Python 3",
      "language": "python"
    },
    "language_info": {
      "name": "python",
      "version": "3.11.11",
      "mimetype": "text/x-python",
      "codemirror_mode": {
        "name": "ipython",
        "version": 3
      },
      "pygments_lexer": "ipython3",
      "nbconvert_exporter": "python",
      "file_extension": ".py"
    },
    "colab": {
      "provenance": []
    },
    "kaggle": {
      "accelerator": "gpu",
      "dataSources": [
        {
          "sourceId": 2560015,
          "sourceType": "datasetVersion",
          "datasetId": 1549969
        },
        {
          "sourceId": 11630476,
          "sourceType": "datasetVersion",
          "datasetId": 7297074
        }
      ],
      "dockerImageVersionId": 31011,
      "isInternetEnabled": true,
      "language": "python",
      "sourceType": "notebook",
      "isGpuEnabled": true
    }
  },
  "nbformat_minor": 5,
  "nbformat": 4,
  "cells": [
    {
      "cell_type": "markdown",
      "source": [
        "[![Open In nbviewer](https://img.shields.io/badge/Jupyter-nbviewer-orange?logo=jupyter)](\n",
        "https://nbviewer.org/github/RadyaSRN/sentiment-analysis-RuSentNE-2023/blob/main/notebooks/sentiment_analysis.ipynb)\n",
        "[![Open In Kaggle](https://kaggle.com/static/images/open-in-kaggle.svg)](\n",
        "https://www.kaggle.com/kernels/welcome?src=https://github.com/RadyaSRN/sentiment-analysis-RuSentNE-2023/blob/main/notebooks/sentiment_analysis.ipynb)\n",
        "[![Open In Colab](https://colab.research.google.com/assets/colab-badge.svg)](\n",
        "https://colab.research.google.com/github/RadyaSRN/sentiment-analysis-RuSentNE-2023/blob/main/notebooks/sentiment_analysis.ipynb)\n",
        "[![W&B Report](https://img.shields.io/badge/Weights%20&%20Biases-Report-orange?logo=weightsandbiases)](\n",
        "https://wandb.ai/radyasrn-mipt/NLP-spring-2025/reports/sentiment-analysis-RuSentNE-2023--VmlldzoxMjc3ODUyMw)"
      ],
      "metadata": {
        "id": "Zxkas-qZX9AW"
      },
      "id": "Zxkas-qZX9AW"
    },
    {
      "cell_type": "markdown",
      "source": [
        "<b><font size=6>**Introduction**</font></b>\n",
        "\n",
        "The notebook is divided into steps:\n",
        "\n",
        "- [Step 1: Baseline RuBERT Model](#step-1-baseline-rubert-model)\n",
        "- [Step 2: RuBERT Model with MLM Pretrain](#step-2-rubert-model-with-mlm-pretrain)\n",
        "- [Step 3: RuBERT Model with Entity Tokens Pooling](#step-3-rubert-model-with-entity-tokens-pooling)\n",
        "- [Step 4: Final Comparison of Models](#step-4-final-comparison-of-models)\n",
        "\n",
        "This notebook presents a pipeline for training of the **[RuBERT](https://huggingface.co/DeepPavlov/rubert-base-cased) model**, its modifications, and using various techniques for sentiment analysis of the data from the **[RuSentNE-2023](https://github.com/dialogue-evaluation/RuSentNE-evaluation) competition**.\n",
        "\n",
        "The task in the competititon was to predict the sentiment of a sentence in relation to an entity from that sentence:"
      ],
      "metadata": {
        "id": "XfLyQeWiX-W1"
      },
      "id": "XfLyQeWiX-W1"
    },
    {
      "cell_type": "markdown",
      "source": [
        "![Illustration](../images/illustration.png)"
      ],
      "metadata": {
        "id": "f_x1a0rKfdJX"
      },
      "id": "f_x1a0rKfdJX"
    },
    {
      "cell_type": "markdown",
      "source": [
        "The project was carried out in a Kaggle environment with a P100 GPU.\n",
        "\n",
        "Let's make the necessary imports:"
      ],
      "metadata": {
        "id": "nzfrgAyeRrFL"
      },
      "id": "nzfrgAyeRrFL"
    },
    {
      "id": "59800d34-7f3f-427b-9fbb-8dca12bc96a7",
      "cell_type": "code",
      "source": [
        "import numpy as np\n",
        "import os\n",
        "import pandas as pd\n",
        "import torch\n",
        "import wandb\n",
        "from datasets import Dataset\n",
        "from safetensors.torch import load_file\n",
        "from sklearn.metrics import accuracy_score, f1_score\n",
        "from sklearn.model_selection import train_test_split\n",
        "from sklearn.preprocessing import LabelEncoder\n",
        "from torch.utils.data import DataLoader, TensorDataset\n",
        "from transformers import (\n",
        "    AutoModel,\n",
        "    AutoModelForMaskedLM,\n",
        "    AutoModelForSequenceClassification,\n",
        "    AutoTokenizer,\n",
        "    DataCollatorForLanguageModeling,\n",
        "    Trainer,\n",
        "    TrainingArguments,\n",
        ")\n",
        "from tqdm.notebook import tqdm\n",
        "\n",
        "# Plotting\n",
        "import matplotlib.pyplot as plt\n",
        "import seaborn as sns\n",
        "%matplotlib inline\n",
        "sns.set_theme(style=\"whitegrid\")\n",
        "\n",
        "# Models and utils\n",
        "from src.models import BertEntitySentimentClassifier\n",
        "from src.utils import mark_entity, compute_metrics, plot_wandb_metrics, analyze_predictions"
      ],
      "metadata": {
        "trusted": true,
        "execution": {
          "iopub.status.busy": "2025-09-04T08:45:20.024145Z",
          "iopub.execute_input": "2025-09-04T08:45:20.024523Z",
          "iopub.status.idle": "2025-09-04T08:45:20.034831Z",
          "shell.execute_reply.started": "2025-09-04T08:45:20.024497Z",
          "shell.execute_reply": "2025-09-04T08:45:20.033944Z"
        },
        "id": "59800d34-7f3f-427b-9fbb-8dca12bc96a7"
      },
      "outputs": [],
      "execution_count": null
    },
    {
      "cell_type": "markdown",
      "source": [
        "<a name=\"step-1-baseline-rubert-model\"></a>\n",
        "<b><font size=4>**Step $1$</font></b> <b><font size=2>(Baseline RuBERT Model):**</font></b>"
      ],
      "metadata": {
        "id": "71LzuFaYI5al"
      },
      "id": "71LzuFaYI5al"
    },
    {
      "id": "4c347139-6d67-4880-a4b8-befe5d9077ff",
      "cell_type": "markdown",
      "source": [
        "In this step, we will take a model with a good general understanding of the language, `DeepPavlov/rubert-base-cased`, as our initial baseline and train it on our data. We will feed the model data along with special tokens `[ENTITY]` and `[/ENTITY]` around the entity being discussed in the sentence.\n",
        "\n",
        "Let's load the data:"
      ],
      "metadata": {
        "id": "4c347139-6d67-4880-a4b8-befe5d9077ff"
      }
    },
    {
      "id": "71e5ceba-35a8-4694-a3f1-d06023e7818b",
      "cell_type": "code",
      "source": [
        "train_df = pd.read_csv(\"/kaggle/input/nlp-spring-2025-sentiment-analysis-train-val-data/train_data.csv\", sep=\"\\t\")\n",
        "val_df = pd.read_csv(\"/kaggle/input/nlp-spring-2025-sentiment-analysis-train-val-data/validation_data_labeled.csv\", sep=\"\\t\")"
      ],
      "metadata": {
        "trusted": true,
        "execution": {
          "iopub.status.busy": "2025-09-04T08:39:43.894173Z",
          "iopub.execute_input": "2025-09-04T08:39:43.894929Z",
          "iopub.status.idle": "2025-09-04T08:39:44.191689Z",
          "shell.execute_reply.started": "2025-09-04T08:39:43.894889Z",
          "shell.execute_reply": "2025-09-04T08:39:44.190816Z"
        },
        "id": "71e5ceba-35a8-4694-a3f1-d06023e7818b"
      },
      "outputs": [],
      "execution_count": null
    },
    {
      "id": "52d44771-e3d0-472f-9557-2add9af008d1",
      "cell_type": "markdown",
      "source": [
        "Let's convert the labels: `-1 -> 0`, `0 -> 1`, `1 -> 2`. That is, now `0 is negative`, `1 is neutral`, `2 is positive`:"
      ],
      "metadata": {
        "id": "52d44771-e3d0-472f-9557-2add9af008d1"
      }
    },
    {
      "id": "a089f00a-b7f1-4c6b-b7fa-d1d556e42882",
      "cell_type": "code",
      "source": [
        "label_map = {-1: 0, 0: 1, 1: 2}\n",
        "train_df[\"label\"] = train_df[\"label\"].map(label_map)\n",
        "val_df[\"label\"] = val_df[\"label\"].map(label_map)"
      ],
      "metadata": {
        "trusted": true,
        "execution": {
          "iopub.status.busy": "2025-09-04T08:39:47.075987Z",
          "iopub.execute_input": "2025-09-04T08:39:47.076577Z",
          "iopub.status.idle": "2025-09-04T08:39:47.086301Z",
          "shell.execute_reply.started": "2025-09-04T08:39:47.076546Z",
          "shell.execute_reply": "2025-09-04T08:39:47.085538Z"
        },
        "id": "a089f00a-b7f1-4c6b-b7fa-d1d556e42882"
      },
      "outputs": [],
      "execution_count": null
    },
    {
      "id": "f69b1242-2582-4734-b4b4-3506905f8f97",
      "cell_type": "markdown",
      "source": [
        "Let's add special tokens:"
      ],
      "metadata": {
        "id": "f69b1242-2582-4734-b4b4-3506905f8f97"
      }
    },
    {
      "id": "ca3eb637-4a7f-4d56-8c70-9e151c83943f",
      "cell_type": "code",
      "source": [
        "special_tokens_dict = {'additional_special_tokens': ['[ENTITY]', '[/ENTITY]']}\n",
        "model_checkpoint = \"DeepPavlov/rubert-base-cased\"\n",
        "tokenizer = AutoTokenizer.from_pretrained(model_checkpoint)\n",
        "tokenizer.add_special_tokens(special_tokens_dict)"
      ],
      "metadata": {
        "trusted": true,
        "execution": {
          "iopub.status.busy": "2025-09-04T08:39:49.571054Z",
          "iopub.execute_input": "2025-09-04T08:39:49.571948Z",
          "iopub.status.idle": "2025-09-04T08:39:51.135609Z",
          "shell.execute_reply.started": "2025-09-04T08:39:49.571905Z",
          "shell.execute_reply": "2025-09-04T08:39:51.134715Z"
        },
        "colab": {
          "referenced_widgets": [
            "5091d57484bb47df8f0bc81b94331536",
            "753116daa20441f4b736f0f771521b91",
            "d910a8f0edcb47e2b480c91defaad0ec",
            "b49c6ba4c2a2484fa789476e321bb903"
          ]
        },
        "id": "ca3eb637-4a7f-4d56-8c70-9e151c83943f",
        "outputId": "c4d31dcf-f85f-4d00-b566-c5bfc3e2a702"
      },
      "outputs": [
        {
          "output_type": "display_data",
          "data": {
            "text/plain": "tokenizer_config.json:   0%|          | 0.00/24.0 [00:00<?, ?B/s]",
            "application/vnd.jupyter.widget-view+json": {
              "version_major": 2,
              "version_minor": 0,
              "model_id": "5091d57484bb47df8f0bc81b94331536"
            }
          },
          "metadata": {}
        },
        {
          "output_type": "display_data",
          "data": {
            "text/plain": "config.json:   0%|          | 0.00/642 [00:00<?, ?B/s]",
            "application/vnd.jupyter.widget-view+json": {
              "version_major": 2,
              "version_minor": 0,
              "model_id": "753116daa20441f4b736f0f771521b91"
            }
          },
          "metadata": {}
        },
        {
          "output_type": "display_data",
          "data": {
            "text/plain": "vocab.txt: 0.00B [00:00, ?B/s]",
            "application/vnd.jupyter.widget-view+json": {
              "version_major": 2,
              "version_minor": 0,
              "model_id": "d910a8f0edcb47e2b480c91defaad0ec"
            }
          },
          "metadata": {}
        },
        {
          "output_type": "display_data",
          "data": {
            "text/plain": "special_tokens_map.json:   0%|          | 0.00/112 [00:00<?, ?B/s]",
            "application/vnd.jupyter.widget-view+json": {
              "version_major": 2,
              "version_minor": 0,
              "model_id": "b49c6ba4c2a2484fa789476e321bb903"
            }
          },
          "metadata": {}
        },
        {
          "execution_count": 6,
          "output_type": "execute_result",
          "data": {
            "text/plain": "2"
          },
          "metadata": {}
        }
      ],
      "execution_count": null
    },
    {
      "id": "d66d5e81-f5c2-47ab-af43-08c86d7ca6a3",
      "cell_type": "markdown",
      "source": [
        "Let's perform the transformation using a function that adds a token responsible for the entity:"
      ],
      "metadata": {
        "id": "d66d5e81-f5c2-47ab-af43-08c86d7ca6a3"
      }
    },
    {
      "id": "b95e8ff4-8771-4143-a48e-96c0ba660f5c",
      "cell_type": "code",
      "source": [
        "train_df[\"input_text\"] = train_df.apply(mark_entity, axis=1)\n",
        "val_df[\"input_text\"] = val_df.apply(mark_entity, axis=1)"
      ],
      "metadata": {
        "trusted": true,
        "execution": {
          "iopub.status.busy": "2025-09-04T08:39:57.796493Z",
          "iopub.execute_input": "2025-09-04T08:39:57.797100Z",
          "iopub.status.idle": "2025-09-04T08:39:57.897207Z",
          "shell.execute_reply.started": "2025-09-04T08:39:57.797073Z",
          "shell.execute_reply": "2025-09-04T08:39:57.896556Z"
        },
        "id": "b95e8ff4-8771-4143-a48e-96c0ba660f5c"
      },
      "outputs": [],
      "execution_count": null
    },
    {
      "id": "222732fa-deb4-4ce4-8488-911f2de993a2",
      "cell_type": "markdown",
      "source": [
        "Then we will create datasets:"
      ],
      "metadata": {
        "id": "222732fa-deb4-4ce4-8488-911f2de993a2"
      }
    },
    {
      "id": "6c4d3b69-ab36-4bb6-a529-97ef408e21b4",
      "cell_type": "code",
      "source": [
        "train_dataset = Dataset.from_pandas(train_df[[\"input_text\", \"label\"]])\n",
        "val_dataset = Dataset.from_pandas(val_df[[\"input_text\", \"label\"]])\n",
        "\n",
        "def tokenize(example):\n",
        "    return tokenizer(example[\"input_text\"], padding=\"max_length\", truncation=True, max_length=128)\n",
        "\n",
        "train_dataset = train_dataset.map(tokenize).remove_columns([\"input_text\"])\n",
        "val_dataset = val_dataset.map(tokenize).remove_columns([\"input_text\"])\n",
        "train_dataset.set_format(\"torch\")\n",
        "val_dataset.set_format(\"torch\")"
      ],
      "metadata": {
        "trusted": true,
        "execution": {
          "iopub.status.busy": "2025-09-04T08:40:02.227283Z",
          "iopub.execute_input": "2025-09-04T08:40:02.228068Z",
          "iopub.status.idle": "2025-09-04T08:40:06.430709Z",
          "shell.execute_reply.started": "2025-09-04T08:40:02.228036Z",
          "shell.execute_reply": "2025-09-04T08:40:06.429679Z"
        },
        "colab": {
          "referenced_widgets": [
            "b98d6a36c151472aba4ad96ec0178433",
            "c7ef3a9df068479390e5a92b8ead92c2"
          ]
        },
        "id": "6c4d3b69-ab36-4bb6-a529-97ef408e21b4",
        "outputId": "078ba9d4-4450-4135-ae9a-9ba31b1d9290"
      },
      "outputs": [
        {
          "output_type": "display_data",
          "data": {
            "text/plain": "Map:   0%|          | 0/6637 [00:00<?, ? examples/s]",
            "application/vnd.jupyter.widget-view+json": {
              "version_major": 2,
              "version_minor": 0,
              "model_id": "b98d6a36c151472aba4ad96ec0178433"
            }
          },
          "metadata": {}
        },
        {
          "output_type": "display_data",
          "data": {
            "text/plain": "Map:   0%|          | 0/2845 [00:00<?, ? examples/s]",
            "application/vnd.jupyter.widget-view+json": {
              "version_major": 2,
              "version_minor": 0,
              "model_id": "c7ef3a9df068479390e5a92b8ead92c2"
            }
          },
          "metadata": {}
        }
      ],
      "execution_count": null
    },
    {
      "id": "9f262e1c-959d-48dd-993e-5e47ff617fef",
      "cell_type": "markdown",
      "source": [
        "Now let's login in to `wandb`:"
      ],
      "metadata": {
        "id": "9f262e1c-959d-48dd-993e-5e47ff617fef"
      }
    },
    {
      "id": "cc2b276c-a1b1-4130-9792-a298dc46659b",
      "cell_type": "code",
      "source": [
        "wandb.login(key='', relogin=True)\n",
        "wandb.finish()"
      ],
      "metadata": {
        "trusted": true,
        "id": "cc2b276c-a1b1-4130-9792-a298dc46659b"
      },
      "outputs": [],
      "execution_count": null
    },
    {
      "id": "f0db12b2-cec5-4575-9255-df2c092e8a79",
      "cell_type": "markdown",
      "source": [
        "We will train the model for 8 epochs with `learning_rate=2e-5, weight_decay=0.01`, which will most likely be sufficient for convergence:"
      ],
      "metadata": {
        "id": "f0db12b2-cec5-4575-9255-df2c092e8a79"
      }
    },
    {
      "id": "5eeb6add-8c25-4f2c-8d98-a8a8fcd266c1",
      "cell_type": "code",
      "source": [
        "wandb.init(project=\"NLP-spring-2025\", name=\"rubert-baseline-run-3\")\n",
        "\n",
        "model = AutoModelForSequenceClassification.from_pretrained(model_checkpoint, num_labels=3)\n",
        "model.resize_token_embeddings(len(tokenizer))\n",
        "\n",
        "training_args = TrainingArguments(\n",
        "    output_dir=\"./results-rubert-baseline\",\n",
        "    eval_strategy=\"epoch\",\n",
        "    save_strategy=\"epoch\",\n",
        "    learning_rate=2e-5,\n",
        "    per_device_train_batch_size=128,\n",
        "    per_device_eval_batch_size=128,\n",
        "    num_train_epochs=8,\n",
        "    weight_decay=0.01,\n",
        "    logging_dir=\"./logs\",\n",
        "    logging_steps=50,\n",
        "    metric_for_best_model=\"f1_macro_filtered\",\n",
        "    greater_is_better=True,\n",
        "    load_best_model_at_end=True,\n",
        "    report_to=\"wandb\"\n",
        ")\n",
        "\n",
        "torch.set_float32_matmul_precision('medium')\n",
        "torch.backends.cudnn.benchmark = True\n",
        "torch.backends.cuda.matmul.allow_tf32 = True\n",
        "\n",
        "trainer = Trainer(\n",
        "    model=model,\n",
        "    args=training_args,\n",
        "    train_dataset=train_dataset,\n",
        "    eval_dataset=val_dataset,\n",
        "    tokenizer=tokenizer,\n",
        "    compute_metrics=compute_metrics\n",
        ")\n",
        "\n",
        "trainer.train()"
      ],
      "metadata": {
        "trusted": true,
        "execution": {
          "iopub.status.busy": "2025-04-30T20:00:26.273864Z",
          "iopub.execute_input": "2025-04-30T20:00:26.274507Z",
          "iopub.status.idle": "2025-04-30T20:12:37.142314Z",
          "shell.execute_reply.started": "2025-04-30T20:00:26.274482Z",
          "shell.execute_reply": "2025-04-30T20:12:37.141831Z"
        },
        "colab": {
          "referenced_widgets": [
            "e73b9b26579a48b69fe138f4db0a6439",
            "d35c996514474afd9450748a08ce792c"
          ]
        },
        "id": "5eeb6add-8c25-4f2c-8d98-a8a8fcd266c1",
        "outputId": "5325dda0-dd1f-4dd7-d91e-bbeb795cf487"
      },
      "outputs": [
        {
          "name": "stderr",
          "text": "\u001b[34m\u001b[1mwandb\u001b[0m: Using wandb-core as the SDK backend.  Please refer to https://wandb.me/wandb-core for more information.\n",
          "output_type": "stream"
        },
        {
          "output_type": "display_data",
          "data": {
            "text/plain": "<IPython.core.display.HTML object>",
            "text/html": "Tracking run with wandb version 0.19.6"
          },
          "metadata": {}
        },
        {
          "output_type": "display_data",
          "data": {
            "text/plain": "<IPython.core.display.HTML object>",
            "text/html": "Run data is saved locally in <code>/kaggle/working/wandb/run-20250430_200026-6olz7jmw</code>"
          },
          "metadata": {}
        },
        {
          "output_type": "display_data",
          "data": {
            "text/plain": "<IPython.core.display.HTML object>",
            "text/html": "Syncing run <strong><a href='https://wandb.ai/radyasrn-mipt/NLP-spring-2025/runs/6olz7jmw' target=\"_blank\">rubert-baseline-run-3</a></strong> to <a href='https://wandb.ai/radyasrn-mipt/NLP-spring-2025' target=\"_blank\">Weights & Biases</a> (<a href='https://wandb.me/developer-guide' target=\"_blank\">docs</a>)<br>"
          },
          "metadata": {}
        },
        {
          "output_type": "display_data",
          "data": {
            "text/plain": "<IPython.core.display.HTML object>",
            "text/html": " View project at <a href='https://wandb.ai/radyasrn-mipt/NLP-spring-2025' target=\"_blank\">https://wandb.ai/radyasrn-mipt/NLP-spring-2025</a>"
          },
          "metadata": {}
        },
        {
          "output_type": "display_data",
          "data": {
            "text/plain": "<IPython.core.display.HTML object>",
            "text/html": " View run at <a href='https://wandb.ai/radyasrn-mipt/NLP-spring-2025/runs/6olz7jmw' target=\"_blank\">https://wandb.ai/radyasrn-mipt/NLP-spring-2025/runs/6olz7jmw</a>"
          },
          "metadata": {}
        },
        {
          "output_type": "display_data",
          "data": {
            "text/plain": "pytorch_model.bin:   0%|          | 0.00/714M [00:00<?, ?B/s]",
            "application/vnd.jupyter.widget-view+json": {
              "version_major": 2,
              "version_minor": 0,
              "model_id": "e73b9b26579a48b69fe138f4db0a6439"
            }
          },
          "metadata": {}
        },
        {
          "output_type": "display_data",
          "data": {
            "text/plain": "model.safetensors:   0%|          | 0.00/714M [00:00<?, ?B/s]",
            "application/vnd.jupyter.widget-view+json": {
              "version_major": 2,
              "version_minor": 0,
              "model_id": "d35c996514474afd9450748a08ce792c"
            }
          },
          "metadata": {}
        },
        {
          "name": "stderr",
          "text": "Some weights of BertForSequenceClassification were not initialized from the model checkpoint at DeepPavlov/rubert-base-cased and are newly initialized: ['classifier.bias', 'classifier.weight']\nYou should probably TRAIN this model on a down-stream task to be able to use it for predictions and inference.\nThe new embeddings will be initialized from a multivariate normal distribution that has old embeddings' mean and covariance. As described in this article: https://nlp.stanford.edu/~johnhew/vocab-expansion.html. To disable this, use `mean_resizing=False`\n/tmp/ipykernel_31/3028007560.py:47: FutureWarning: `tokenizer` is deprecated and will be removed in version 5.0.0 for `Trainer.__init__`. Use `processing_class` instead.\n  trainer = Trainer(\n\u001b[34m\u001b[1mwandb\u001b[0m: \u001b[33mWARNING\u001b[0m The `run_name` is currently set to the same value as `TrainingArguments.output_dir`. If this was not intended, please specify a different run name by setting the `TrainingArguments.run_name` parameter.\n",
          "output_type": "stream"
        },
        {
          "output_type": "display_data",
          "data": {
            "text/plain": "<IPython.core.display.HTML object>",
            "text/html": "\n    <div>\n      \n      <progress value='416' max='416' style='width:300px; height:20px; vertical-align: middle;'></progress>\n      [416/416 11:53, Epoch 8/8]\n    </div>\n    <table border=\"1\" class=\"dataframe\">\n  <thead>\n <tr style=\"text-align: left;\">\n      <th>Epoch</th>\n      <th>Training Loss</th>\n      <th>Validation Loss</th>\n      <th>F1 Negative</th>\n      <th>F1 Positive</th>\n      <th>F1 Macro Filtered</th>\n    </tr>\n  </thead>\n  <tbody>\n    <tr>\n      <td>1</td>\n      <td>0.750200</td>\n      <td>0.639895</td>\n      <td>0.647619</td>\n      <td>0.199005</td>\n      <td>0.423312</td>\n    </tr>\n    <tr>\n      <td>2</td>\n      <td>0.559100</td>\n      <td>0.542225</td>\n      <td>0.615385</td>\n      <td>0.609881</td>\n      <td>0.612633</td>\n    </tr>\n    <tr>\n      <td>3</td>\n      <td>0.428300</td>\n      <td>0.493704</td>\n      <td>0.744063</td>\n      <td>0.675722</td>\n      <td>0.709892</td>\n    </tr>\n    <tr>\n      <td>4</td>\n      <td>0.338000</td>\n      <td>0.512804</td>\n      <td>0.751625</td>\n      <td>0.615385</td>\n      <td>0.683505</td>\n    </tr>\n    <tr>\n      <td>5</td>\n      <td>0.255100</td>\n      <td>0.540111</td>\n      <td>0.748353</td>\n      <td>0.610108</td>\n      <td>0.679231</td>\n    </tr>\n    <tr>\n      <td>6</td>\n      <td>0.192600</td>\n      <td>0.568656</td>\n      <td>0.760925</td>\n      <td>0.636204</td>\n      <td>0.698565</td>\n    </tr>\n    <tr>\n      <td>7</td>\n      <td>0.156700</td>\n      <td>0.592044</td>\n      <td>0.768448</td>\n      <td>0.674576</td>\n      <td>0.721512</td>\n    </tr>\n    <tr>\n      <td>8</td>\n      <td>0.140400</td>\n      <td>0.593671</td>\n      <td>0.759331</td>\n      <td>0.637324</td>\n      <td>0.698327</td>\n    </tr>\n  </tbody>\n</table><p>"
          },
          "metadata": {}
        },
        {
          "execution_count": 5,
          "output_type": "execute_result",
          "data": {
            "text/plain": "TrainOutput(global_step=416, training_loss=0.34396454519950426, metrics={'train_runtime': 716.1144, 'train_samples_per_second': 74.145, 'train_steps_per_second': 0.581, 'total_flos': 3492567506921472.0, 'train_loss': 0.34396454519950426, 'epoch': 8.0})"
          },
          "metadata": {}
        }
      ],
      "execution_count": null
    },
    {
      "id": "121d9698-d283-45ec-9df9-ed4a83ecbb78",
      "cell_type": "markdown",
      "source": [
        "Then we will finish the run:"
      ],
      "metadata": {
        "id": "121d9698-d283-45ec-9df9-ed4a83ecbb78"
      }
    },
    {
      "id": "61f08890-b1a7-47ee-9a1e-bdf3557d5562",
      "cell_type": "code",
      "source": [
        "wandb.finish()"
      ],
      "metadata": {
        "trusted": true,
        "execution": {
          "iopub.status.busy": "2025-04-30T20:12:54.725351Z",
          "iopub.execute_input": "2025-04-30T20:12:54.725979Z",
          "iopub.status.idle": "2025-04-30T20:12:56.939872Z",
          "shell.execute_reply.started": "2025-04-30T20:12:54.725947Z",
          "shell.execute_reply": "2025-04-30T20:12:56.939353Z"
        },
        "id": "61f08890-b1a7-47ee-9a1e-bdf3557d5562",
        "outputId": "c04daa52-671a-40cf-d8b7-481890779c64"
      },
      "outputs": [
        {
          "output_type": "display_data",
          "data": {
            "text/plain": "<IPython.core.display.HTML object>",
            "text/html": ""
          },
          "metadata": {}
        },
        {
          "output_type": "display_data",
          "data": {
            "text/plain": "<IPython.core.display.HTML object>",
            "text/html": "<br>    <style><br>        .wandb-row {<br>            display: flex;<br>            flex-direction: row;<br>            flex-wrap: wrap;<br>            justify-content: flex-start;<br>            width: 100%;<br>        }<br>        .wandb-col {<br>            display: flex;<br>            flex-direction: column;<br>            flex-basis: 100%;<br>            flex: 1;<br>            padding: 10px;<br>        }<br>    </style><br><div class=\"wandb-row\"><div class=\"wandb-col\"><h3>Run history:</h3><br/><table class=\"wandb\"><tr><td>eval/f1_macro_filtered</td><td>▁▅█▇▇▇█▇</td></tr><tr><td>eval/f1_negative</td><td>▂▁▇▇▇███</td></tr><tr><td>eval/f1_positive</td><td>▁▇█▇▇▇█▇</td></tr><tr><td>eval/loss</td><td>█▃▁▂▃▅▆▆</td></tr><tr><td>eval/runtime</td><td>▁█▇█▆▇▆▆</td></tr><tr><td>eval/samples_per_second</td><td>█▁▂▁▃▂▃▃</td></tr><tr><td>eval/steps_per_second</td><td>█▁▂▁▃▂▃▃</td></tr><tr><td>train/epoch</td><td>▁▁▂▂▃▃▄▄▅▅▆▆▇▇███</td></tr><tr><td>train/global_step</td><td>▁▁▂▂▃▃▄▄▅▅▆▆▇▇███</td></tr><tr><td>train/grad_norm</td><td>▁▄▄▅▆█▇▆</td></tr><tr><td>train/learning_rate</td><td>█▇▆▅▄▃▂▁</td></tr><tr><td>train/loss</td><td>█▆▄▃▂▂▁▁</td></tr></table><br/></div><div class=\"wandb-col\"><h3>Run summary:</h3><br/><table class=\"wandb\"><tr><td>eval/f1_macro_filtered</td><td>0.69833</td></tr><tr><td>eval/f1_negative</td><td>0.75933</td></tr><tr><td>eval/f1_positive</td><td>0.63732</td></tr><tr><td>eval/loss</td><td>0.59367</td></tr><tr><td>eval/runtime</td><td>10.2394</td></tr><tr><td>eval/samples_per_second</td><td>277.849</td></tr><tr><td>eval/steps_per_second</td><td>2.246</td></tr><tr><td>total_flos</td><td>3492567506921472.0</td></tr><tr><td>train/epoch</td><td>8</td></tr><tr><td>train/global_step</td><td>416</td></tr><tr><td>train/grad_norm</td><td>4.77455</td></tr><tr><td>train/learning_rate</td><td>0.0</td></tr><tr><td>train/loss</td><td>0.1404</td></tr><tr><td>train_loss</td><td>0.34396</td></tr><tr><td>train_runtime</td><td>716.1144</td></tr><tr><td>train_samples_per_second</td><td>74.145</td></tr><tr><td>train_steps_per_second</td><td>0.581</td></tr></table><br/></div></div>"
          },
          "metadata": {}
        },
        {
          "output_type": "display_data",
          "data": {
            "text/plain": "<IPython.core.display.HTML object>",
            "text/html": " View run <strong style=\"color:#cdcd00\">rubert-baseline-run-3</strong> at: <a href='https://wandb.ai/radyasrn-mipt/NLP-spring-2025/runs/6olz7jmw' target=\"_blank\">https://wandb.ai/radyasrn-mipt/NLP-spring-2025/runs/6olz7jmw</a><br> View project at: <a href='https://wandb.ai/radyasrn-mipt/NLP-spring-2025' target=\"_blank\">https://wandb.ai/radyasrn-mipt/NLP-spring-2025</a><br>Synced 5 W&B file(s), 0 media file(s), 0 artifact file(s) and 0 other file(s)"
          },
          "metadata": {}
        },
        {
          "output_type": "display_data",
          "data": {
            "text/plain": "<IPython.core.display.HTML object>",
            "text/html": "Find logs at: <code>./wandb/run-20250430_200026-6olz7jmw/logs</code>"
          },
          "metadata": {}
        }
      ],
      "execution_count": null
    },
    {
      "id": "0d4ddcda-3b9e-4286-a4e4-7a9380af1214",
      "cell_type": "markdown",
      "source": [
        "Then we will save the model:"
      ],
      "metadata": {
        "id": "0d4ddcda-3b9e-4286-a4e4-7a9380af1214"
      }
    },
    {
      "id": "71b46444-1e06-4d97-b4d7-a2dd46779efa",
      "cell_type": "code",
      "source": [
        "trainer.save_model(\"./rubert-baseline-model\")\n",
        "tokenizer.save_pretrained(\"./rubert-baseline-model\")"
      ],
      "metadata": {
        "trusted": true,
        "execution": {
          "iopub.status.busy": "2025-04-30T20:16:41.688723Z",
          "iopub.execute_input": "2025-04-30T20:16:41.689133Z",
          "iopub.status.idle": "2025-04-30T20:16:43.564344Z",
          "shell.execute_reply.started": "2025-04-30T20:16:41.689105Z",
          "shell.execute_reply": "2025-04-30T20:16:43.563687Z"
        },
        "id": "71b46444-1e06-4d97-b4d7-a2dd46779efa",
        "outputId": "c3bfd4f5-0ab1-425b-e3b0-69366f5c6cf8"
      },
      "outputs": [
        {
          "execution_count": 11,
          "output_type": "execute_result",
          "data": {
            "text/plain": "('./rubert-baseline-model/tokenizer_config.json',\n './rubert-baseline-model/special_tokens_map.json',\n './rubert-baseline-model/vocab.txt',\n './rubert-baseline-model/added_tokens.json',\n './rubert-baseline-model/tokenizer.json')"
          },
          "metadata": {}
        }
      ],
      "execution_count": null
    },
    {
      "id": "aa9b1d03-50b7-4512-82a9-217bd00fe741",
      "cell_type": "markdown",
      "source": [
        "Now let's look at the results:"
      ],
      "metadata": {
        "id": "aa9b1d03-50b7-4512-82a9-217bd00fe741"
      }
    },
    {
      "id": "aa99610f-6b64-4057-aeb5-3ba86bd80361",
      "cell_type": "code",
      "source": [
        "plot_wandb_metrics(\n",
        "    run_path='radyasrn-mipt/NLP-spring-2025/6olz7jmw',\n",
        "    metric_keys=['eval/f1_negative', 'eval/f1_positive', 'eval/f1_macro_filtered'],\n",
        "    title_suffix='F1'\n",
        ")"
      ],
      "metadata": {
        "trusted": true,
        "execution": {
          "iopub.status.busy": "2025-09-04T09:02:26.493769Z",
          "iopub.execute_input": "2025-09-04T09:02:26.494291Z",
          "iopub.status.idle": "2025-09-04T09:02:28.045487Z",
          "shell.execute_reply.started": "2025-09-04T09:02:26.494266Z",
          "shell.execute_reply": "2025-09-04T09:02:28.044633Z"
        },
        "id": "aa99610f-6b64-4057-aeb5-3ba86bd80361",
        "outputId": "0fc34ce4-9ca7-47ae-ea75-cd357d06183d"
      },
      "outputs": [
        {
          "name": "stderr",
          "text": "/tmp/ipykernel_31/3774981854.py:13: FutureWarning: DataFrame.fillna with 'method' is deprecated and will raise in a future version. Use obj.ffill() or obj.bfill() instead.\n  history = history.fillna(method='ffill').fillna(method='bfill')\n",
          "output_type": "stream"
        },
        {
          "output_type": "display_data",
          "data": {
            "text/plain": "<Figure size 1400x500 with 2 Axes>",
            "image/png": "[encoded data removed]"
          },
          "metadata": {}
        }
      ],
      "execution_count": null
    },
    {
      "id": "2ff7a99d-6147-44d2-a6ba-f16214820d12",
      "cell_type": "markdown",
      "source": [
        "Let's also look at examples of correct and incorrect predictions:"
      ],
      "metadata": {
        "id": "2ff7a99d-6147-44d2-a6ba-f16214820d12"
      }
    },
    {
      "id": "bfc0911b-8c6f-44f8-b4ec-54991b4014a3",
      "cell_type": "code",
      "source": [
        "model = AutoModelForSequenceClassification.from_pretrained(\n",
        "    \"./rubert-baseline-model\", num_labels=3\n",
        ")\n",
        "model.resize_token_embeddings(len(tokenizer))\n",
        "\n",
        "metrics_baseline = analyze_predictions(\n",
        "    model=model,\n",
        "    dataset=val_dataset,\n",
        "    raw_df=val_df,\n",
        "    text_column=\"sentence\",\n",
        "    label_column=\"label\",\n",
        "    entity_column=\"entity\",\n",
        "    batch_size=64,\n",
        "    n_examples=5\n",
        ")\n",
        "metrics_baseline"
      ],
      "metadata": {
        "trusted": true,
        "execution": {
          "iopub.status.busy": "2025-09-04T08:42:46.845870Z",
          "iopub.execute_input": "2025-09-04T08:42:46.846161Z",
          "iopub.status.idle": "2025-09-04T08:42:58.114003Z",
          "shell.execute_reply.started": "2025-09-04T08:42:46.846140Z",
          "shell.execute_reply": "2025-09-04T08:42:58.113036Z"
        },
        "colab": {
          "referenced_widgets": [
            ""
          ]
        },
        "id": "bfc0911b-8c6f-44f8-b4ec-54991b4014a3",
        "outputId": "c68b58e9-3ea0-4032-8247-05d834e48d0f"
      },
      "outputs": [
        {
          "output_type": "display_data",
          "data": {
            "text/plain": "  0%|          | 0/45 [00:00<?, ?it/s]",
            "application/vnd.jupyter.widget-view+json": {
              "version_major": 2,
              "version_minor": 0,
              "model_id": ""
            }
          },
          "metadata": {}
        },
        {
          "name": "stdout",
          "text": "\nCorrect predictions:\n- Text: The Telegraph сообщает, что до конца сезона команду возглавит Гус Хиддинк.\n  Entity: Гус Хиддинк\n  True label: 2, Prediction: 2\n\n- Text: Власти Нигера приняли решение об отзыве своего посла из Катара в знак солидарности с арабскими странами, которые разорвали дипломатические отношения с эмиратом.\n  Entity: арабскими\n  True label: 2, Prediction: 2\n\n- Text: К концу войны «Голос Америки» вещал на 40 языках, а программы состояли из музыки, новостей и аналитических комментариев.\n  Entity: Голос Америки\n  True label: 2, Prediction: 2\n\n- Text: Организаторами экспозиции являются отделение испанского банка ''La Caixa'' — ''Obra Social La Caixa'', шотландская компания ''Nomad Exhibitions'' и ''Museo de Nankin'', чьи старания позволили выставке путешествовать по миру.\n  Entity: La Caixa\n  True label: 2, Prediction: 2\n\n- Text: Россия и Китай предложили резолюцию по Северной Корее\n  Entity: Россия\n  True label: 2, Prediction: 2\n\n\nWrong predictions:\n- Text: Тем временем, силы НАТО продолжают постепенно передавать контроль над обеспечением безопасности Афганистана местным властям, готовясь к выводу международных войск, намеченному на конец 2014 года.\n  Entity: НАТО\n  True label: 2, Prediction: 0\n\n- Text: Защита Мюррея настаивала, что Майкл Джексон сам сделал инъекцию «Пропофола», не рассчитал дозу, и доказательств ошибок доктора не существует.\n  Entity: Майкл Джексон\n  True label: 2, Prediction: 0\n\n- Text: В ответ на подозрения, в компании TikTok заявили, что Китай не имеет влияния на их контент-политику, потому что TikTok не работает в Китае.\n  Entity: Китае\n  True label: 2, Prediction: 0\n\n- Text: Лэнса Армстронга лишили всех побед на «Тур де Франс»\n  Entity: Лэнса Армстронга\n  True label: 2, Prediction: 0\n\n- Text: В ответ на протесты 20 мая 1989 года Ли Пэн ввёл военное положение.\n  Entity: Ли Пэн\n  True label: 2, Prediction: 0\n\n",
          "output_type": "stream"
        },
        {
          "name": "stderr",
          "text": "/tmp/ipykernel_31/3206778358.py:45: RuntimeWarning: invalid value encountered in cast\n  labels_np = labels.numpy().astype(int)\n",
          "output_type": "stream"
        },
        {
          "execution_count": 16,
          "output_type": "execute_result",
          "data": {
            "text/plain": "{'f1_negative': 0.0,\n 'f1_positive': 0.10392902408111532,\n 'f1_macro_filtered': 0.05196451204055766}"
          },
          "metadata": {}
        }
      ],
      "execution_count": null
    },
    {
      "id": "a77542c3-e5d7-4d9a-9140-33c49bc5e8af",
      "cell_type": "markdown",
      "source": [
        "We can see that the cases where the model is wrong are not entirely trivial. In addition, it is good that there is no significant difference between F1 for different classes."
      ],
      "metadata": {
        "id": "a77542c3-e5d7-4d9a-9140-33c49bc5e8af"
      }
    },
    {
      "cell_type": "markdown",
      "source": [
        "<a name=\"step-2-rubert-model-with-mlm-pretrain\"></a>\n",
        "<b><font size=4>**Step $2$</font></b> <b><font size=2>(RuBERT Model with MLM Pretrain):**</font></b>"
      ],
      "metadata": {
        "id": "TPmbtLxPJK2t"
      },
      "id": "TPmbtLxPJK2t"
    },
    {
      "id": "28d5ef1a-41d4-43a3-8774-fb35c0982ece",
      "cell_type": "markdown",
      "source": [
        "In this step, we will try a model with the same architecture as the baseline, but before training on the main task, it goes through a masked language modeling pre-training stage.\n",
        "\n",
        "Let's create datasets:"
      ],
      "metadata": {
        "id": "28d5ef1a-41d4-43a3-8774-fb35c0982ece"
      }
    },
    {
      "id": "495e2b98-b244-4bbb-a3db-6b15bf137e20",
      "cell_type": "code",
      "source": [
        "mlm_train_dataset = Dataset.from_pandas(train_df[[\"input_text\"]])\n",
        "mlm_val_dataset = Dataset.from_pandas(val_df[[\"input_text\"]])\n",
        "\n",
        "mlm_train_dataset = mlm_train_dataset.map(tokenize).remove_columns([\"input_text\"]).with_format(\"torch\")\n",
        "mlm_val_dataset = mlm_val_dataset.map(tokenize).remove_columns([\"input_text\"]).with_format(\"torch\")"
      ],
      "metadata": {
        "trusted": true,
        "execution": {
          "iopub.status.busy": "2025-05-14T13:09:42.569311Z",
          "iopub.execute_input": "2025-05-14T13:09:42.569951Z",
          "iopub.status.idle": "2025-05-14T13:09:45.972780Z",
          "shell.execute_reply.started": "2025-05-14T13:09:42.569919Z",
          "shell.execute_reply": "2025-05-14T13:09:45.971914Z"
        },
        "colab": {
          "referenced_widgets": [
            "78ce48b4b924464493d25e0f983eee53",
            "3c57c1011b2443dd8c55c5b6f201e111"
          ]
        },
        "id": "495e2b98-b244-4bbb-a3db-6b15bf137e20",
        "outputId": "2e8808fc-65e8-4a97-ab2a-1bb1f065975c"
      },
      "outputs": [
        {
          "output_type": "display_data",
          "data": {
            "text/plain": "Map:   0%|          | 0/6637 [00:00<?, ? examples/s]",
            "application/vnd.jupyter.widget-view+json": {
              "version_major": 2,
              "version_minor": 0,
              "model_id": "78ce48b4b924464493d25e0f983eee53"
            }
          },
          "metadata": {}
        },
        {
          "output_type": "display_data",
          "data": {
            "text/plain": "Map:   0%|          | 0/2845 [00:00<?, ? examples/s]",
            "application/vnd.jupyter.widget-view+json": {
              "version_major": 2,
              "version_minor": 0,
              "model_id": "3c57c1011b2443dd8c55c5b6f201e111"
            }
          },
          "metadata": {}
        }
      ],
      "execution_count": null
    },
    {
      "id": "1a103992-ce30-4ebc-a128-eca3e3126bc0",
      "cell_type": "markdown",
      "source": [
        "We will train the model for $5$ epochs with `learning_rate=2e-5, weight_decay=0.01`, which will most likely be sufficient for convergence:"
      ],
      "metadata": {
        "id": "1a103992-ce30-4ebc-a128-eca3e3126bc0"
      }
    },
    {
      "id": "a0ac3060-bc80-4bbe-8b4a-620cad54d31e",
      "cell_type": "code",
      "source": [
        "wandb.init(project=\"NLP-spring-2025\", name=\"rubert-mlm-pretrained-run-6\")\n",
        "\n",
        "data_collator = DataCollatorForLanguageModeling(tokenizer, mlm=True, mlm_probability=0.15)\n",
        "\n",
        "mlm_model = AutoModelForMaskedLM.from_pretrained(model_checkpoint)\n",
        "mlm_model.resize_token_embeddings(len(tokenizer))\n",
        "\n",
        "mlm_args = TrainingArguments(\n",
        "    output_dir=\"./results-rubert-mlm-pretrain\",\n",
        "    per_device_train_batch_size=32,\n",
        "    per_device_eval_batch_size=32,\n",
        "    eval_strategy=\"epoch\",\n",
        "    save_strategy=\"epoch\",\n",
        "    num_train_epochs=5,\n",
        "    learning_rate=2e-5,\n",
        "    weight_decay=0.01,\n",
        "    logging_dir=\"./logs\",\n",
        "    logging_steps=50,\n",
        "    load_best_model_at_end=True,\n",
        "    save_total_limit=1,\n",
        "    metric_for_best_model=\"eval_loss\",\n",
        "    greater_is_better=False,\n",
        "    report_to=\"wandb\",\n",
        ")\n",
        "\n",
        "torch.set_float32_matmul_precision('medium')\n",
        "torch.backends.cudnn.benchmark = True\n",
        "torch.backends.cuda.matmul.allow_tf32 = True\n",
        "\n",
        "mlm_trainer = Trainer(\n",
        "    model=mlm_model,\n",
        "    args=mlm_args,\n",
        "    train_dataset=mlm_train_dataset,\n",
        "    eval_dataset=mlm_val_dataset,\n",
        "    tokenizer=tokenizer,\n",
        "    data_collator=data_collator\n",
        ")\n",
        "\n",
        "mlm_trainer.train()"
      ],
      "metadata": {
        "trusted": true,
        "execution": {
          "iopub.status.busy": "2025-05-14T13:24:06.853821Z",
          "iopub.execute_input": "2025-05-14T13:24:06.854366Z",
          "iopub.status.idle": "2025-05-14T13:39:58.902813Z",
          "shell.execute_reply.started": "2025-05-14T13:24:06.854342Z",
          "shell.execute_reply": "2025-05-14T13:39:58.902208Z"
        },
        "id": "a0ac3060-bc80-4bbe-8b4a-620cad54d31e",
        "outputId": "3c7fa5db-5e20-43e8-a5dc-d6bb18b12588"
      },
      "outputs": [
        {
          "output_type": "display_data",
          "data": {
            "text/plain": "<IPython.core.display.HTML object>",
            "text/html": "Tracking run with wandb version 0.19.6"
          },
          "metadata": {}
        },
        {
          "output_type": "display_data",
          "data": {
            "text/plain": "<IPython.core.display.HTML object>",
            "text/html": "Run data is saved locally in <code>/kaggle/working/wandb/run-20250514_132406-st0tpf7c</code>"
          },
          "metadata": {}
        },
        {
          "output_type": "display_data",
          "data": {
            "text/plain": "<IPython.core.display.HTML object>",
            "text/html": "Syncing run <strong><a href='https://wandb.ai/radyasrn-mipt/NLP-spring-2025/runs/st0tpf7c' target=\"_blank\">rubert-mlm-pretrained-run-6</a></strong> to <a href='https://wandb.ai/radyasrn-mipt/NLP-spring-2025' target=\"_blank\">Weights & Biases</a> (<a href='https://wandb.me/developer-guide' target=\"_blank\">docs</a>)<br>"
          },
          "metadata": {}
        },
        {
          "output_type": "display_data",
          "data": {
            "text/plain": "<IPython.core.display.HTML object>",
            "text/html": " View project at <a href='https://wandb.ai/radyasrn-mipt/NLP-spring-2025' target=\"_blank\">https://wandb.ai/radyasrn-mipt/NLP-spring-2025</a>"
          },
          "metadata": {}
        },
        {
          "output_type": "display_data",
          "data": {
            "text/plain": "<IPython.core.display.HTML object>",
            "text/html": " View run at <a href='https://wandb.ai/radyasrn-mipt/NLP-spring-2025/runs/st0tpf7c' target=\"_blank\">https://wandb.ai/radyasrn-mipt/NLP-spring-2025/runs/st0tpf7c</a>"
          },
          "metadata": {}
        },
        {
          "name": "stderr",
          "text": "/tmp/ipykernel_31/2819736450.py:30: FutureWarning: `tokenizer` is deprecated and will be removed in version 5.0.0 for `Trainer.__init__`. Use `processing_class` instead.\n  mlm_trainer = Trainer(\n",
          "output_type": "stream"
        },
        {
          "output_type": "display_data",
          "data": {
            "text/plain": "<IPython.core.display.HTML object>",
            "text/html": "\n    <div>\n      \n      <progress value='1040' max='1040' style='width:300px; height:20px; vertical-align: middle;'></progress>\n      [1040/1040 15:40, Epoch 5/5]\n    </div>\n    <table border=\"1\" class=\"dataframe\">\n  <thead>\n <tr style=\"text-align: left;\">\n      <th>Epoch</th>\n      <th>Training Loss</th>\n      <th>Validation Loss</th>\n    </tr>\n  </thead>\n  <tbody>\n    <tr>\n      <td>1</td>\n      <td>1.699000</td>\n      <td>1.542567</td>\n    </tr>\n    <tr>\n      <td>2</td>\n      <td>1.448900</td>\n      <td>1.438588</td>\n    </tr>\n    <tr>\n      <td>3</td>\n      <td>1.386600</td>\n      <td>1.406442</td>\n    </tr>\n    <tr>\n      <td>4</td>\n      <td>1.375500</td>\n      <td>1.329951</td>\n    </tr>\n    <tr>\n      <td>5</td>\n      <td>1.274400</td>\n      <td>1.319235</td>\n    </tr>\n  </tbody>\n</table><p>"
          },
          "metadata": {}
        },
        {
          "name": "stderr",
          "text": "There were missing keys in the checkpoint model loaded: ['cls.predictions.decoder.weight', 'cls.predictions.decoder.bias'].\n",
          "output_type": "stream"
        },
        {
          "execution_count": 27,
          "output_type": "execute_result",
          "data": {
            "text/plain": "TrainOutput(global_step=1040, training_loss=1.4868861528543325, metrics={'train_runtime': 941.2635, 'train_samples_per_second': 35.256, 'train_steps_per_second': 1.105, 'total_flos': 2185881877436160.0, 'train_loss': 1.4868861528543325, 'epoch': 5.0})"
          },
          "metadata": {}
        }
      ],
      "execution_count": null
    },
    {
      "id": "006561b2-6802-4137-a5de-86f1046930a2",
      "cell_type": "markdown",
      "source": [
        "As we can see, at the end, the model has only slightly improved in quality, i.e., we have achieved convergence. Let's finish the run:"
      ],
      "metadata": {
        "id": "006561b2-6802-4137-a5de-86f1046930a2"
      }
    },
    {
      "id": "ba4dc14d-1ba2-48ca-b5ce-3e4875c2ce4e",
      "cell_type": "code",
      "source": [
        "wandb.finish()"
      ],
      "metadata": {
        "trusted": true,
        "execution": {
          "iopub.status.busy": "2025-05-14T13:40:48.459349Z",
          "iopub.execute_input": "2025-05-14T13:40:48.459868Z",
          "iopub.status.idle": "2025-05-14T13:40:50.496739Z",
          "shell.execute_reply.started": "2025-05-14T13:40:48.459847Z",
          "shell.execute_reply": "2025-05-14T13:40:50.496037Z"
        },
        "id": "ba4dc14d-1ba2-48ca-b5ce-3e4875c2ce4e",
        "outputId": "b6e48c50-b297-4dd3-d98e-7f78d1e5405c"
      },
      "outputs": [
        {
          "output_type": "display_data",
          "data": {
            "text/plain": "<IPython.core.display.HTML object>",
            "text/html": ""
          },
          "metadata": {}
        },
        {
          "output_type": "display_data",
          "data": {
            "text/plain": "<IPython.core.display.HTML object>",
            "text/html": "<br>    <style><br>        .wandb-row {<br>            display: flex;<br>            flex-direction: row;<br>            flex-wrap: wrap;<br>            justify-content: flex-start;<br>            width: 100%;<br>        }<br>        .wandb-col {<br>            display: flex;<br>            flex-direction: column;<br>            flex-basis: 100%;<br>            flex: 1;<br>            padding: 10px;<br>        }<br>    </style><br><div class=\"wandb-row\"><div class=\"wandb-col\"><h3>Run history:</h3><br/><table class=\"wandb\"><tr><td>eval/loss</td><td>█▅▄▁▁</td></tr><tr><td>eval/runtime</td><td>▁▂█▆▂</td></tr><tr><td>eval/samples_per_second</td><td>█▇▁▃▇</td></tr><tr><td>eval/steps_per_second</td><td>█▇▁▂▇</td></tr><tr><td>train/epoch</td><td>▁▁▂▂▂▂▃▃▃▄▄▄▅▅▅▅▆▆▆▇▇▇▇███</td></tr><tr><td>train/global_step</td><td>▁▁▂▂▂▂▃▃▃▄▄▄▅▅▅▅▆▆▆▇▇▇▇███</td></tr><tr><td>train/grad_norm</td><td>█▅▄▄▅▆▇▅▄▃▂▅▄▂▄▁█▂▄▃</td></tr><tr><td>train/learning_rate</td><td>██▇▇▇▆▆▅▅▅▄▄▄▃▃▂▂▂▁▁</td></tr><tr><td>train/loss</td><td>█▇▆▅▅▄▄▃▃▃▂▂▃▂▂▂▁▂▂▁</td></tr></table><br/></div><div class=\"wandb-col\"><h3>Run summary:</h3><br/><table class=\"wandb\"><tr><td>eval/loss</td><td>1.31923</td></tr><tr><td>eval/runtime</td><td>22.9625</td></tr><tr><td>eval/samples_per_second</td><td>123.898</td></tr><tr><td>eval/steps_per_second</td><td>3.876</td></tr><tr><td>total_flos</td><td>2185881877436160.0</td></tr><tr><td>train/epoch</td><td>5</td></tr><tr><td>train/global_step</td><td>1040</td></tr><tr><td>train/grad_norm</td><td>13.40346</td></tr><tr><td>train/learning_rate</td><td>0.0</td></tr><tr><td>train/loss</td><td>1.2744</td></tr><tr><td>train_loss</td><td>1.48689</td></tr><tr><td>train_runtime</td><td>941.2635</td></tr><tr><td>train_samples_per_second</td><td>35.256</td></tr><tr><td>train_steps_per_second</td><td>1.105</td></tr></table><br/></div></div>"
          },
          "metadata": {}
        },
        {
          "output_type": "display_data",
          "data": {
            "text/plain": "<IPython.core.display.HTML object>",
            "text/html": " View run <strong style=\"color:#cdcd00\">rubert-mlm-pretrained-run-6</strong> at: <a href='https://wandb.ai/radyasrn-mipt/NLP-spring-2025/runs/st0tpf7c' target=\"_blank\">https://wandb.ai/radyasrn-mipt/NLP-spring-2025/runs/st0tpf7c</a><br> View project at: <a href='https://wandb.ai/radyasrn-mipt/NLP-spring-2025' target=\"_blank\">https://wandb.ai/radyasrn-mipt/NLP-spring-2025</a><br>Synced 5 W&B file(s), 0 media file(s), 0 artifact file(s) and 0 other file(s)"
          },
          "metadata": {}
        },
        {
          "output_type": "display_data",
          "data": {
            "text/plain": "<IPython.core.display.HTML object>",
            "text/html": "Find logs at: <code>./wandb/run-20250514_132406-st0tpf7c/logs</code>"
          },
          "metadata": {}
        }
      ],
      "execution_count": null
    },
    {
      "id": "1bf03ab1-1b2d-4202-b4ef-1e21b29fb2c5",
      "cell_type": "markdown",
      "source": [
        "Then we will save the model:"
      ],
      "metadata": {
        "id": "1bf03ab1-1b2d-4202-b4ef-1e21b29fb2c5"
      }
    },
    {
      "id": "9be398b8-8a9e-46fa-b50c-4a0dea670c67",
      "cell_type": "code",
      "source": [
        "mlm_trainer.save_model(\"./rubert-mlm-pretrained-model\")\n",
        "tokenizer.save_pretrained(\"./rubert-mlm-pretrained-model\")"
      ],
      "metadata": {
        "trusted": true,
        "execution": {
          "iopub.status.busy": "2025-05-14T13:40:55.919867Z",
          "iopub.execute_input": "2025-05-14T13:40:55.920595Z",
          "iopub.status.idle": "2025-05-14T13:40:57.470915Z",
          "shell.execute_reply.started": "2025-05-14T13:40:55.920570Z",
          "shell.execute_reply": "2025-05-14T13:40:57.470071Z"
        },
        "id": "9be398b8-8a9e-46fa-b50c-4a0dea670c67",
        "outputId": "61c494d2-c9a7-470a-bfd4-d3d2af61988d"
      },
      "outputs": [
        {
          "execution_count": 29,
          "output_type": "execute_result",
          "data": {
            "text/plain": "('./rubert-mlm-pretrained-model/tokenizer_config.json',\n './rubert-mlm-pretrained-model/special_tokens_map.json',\n './rubert-mlm-pretrained-model/vocab.txt',\n './rubert-mlm-pretrained-model/added_tokens.json',\n './rubert-mlm-pretrained-model/tokenizer.json')"
          },
          "metadata": {}
        }
      ],
      "execution_count": null
    },
    {
      "id": "2c305ae7-044f-486f-9a91-2869e320ddb1",
      "cell_type": "markdown",
      "source": [
        "Let's look at the training history:"
      ],
      "metadata": {
        "id": "2c305ae7-044f-486f-9a91-2869e320ddb1"
      }
    },
    {
      "id": "8c1cfe1a-fe10-4fbf-8fd6-7495b78dff0e",
      "cell_type": "code",
      "source": [
        "plot_wandb_metrics(\n",
        "    run_path='radyasrn-mipt/NLP-spring-2025/st0tpf7c',\n",
        "    metric_keys=['eval/f1_negative', 'eval/f1_positive', 'eval/f1_macro_filtered'],\n",
        "    title_suffix=None\n",
        ")"
      ],
      "metadata": {
        "trusted": true,
        "execution": {
          "iopub.status.busy": "2025-09-04T09:02:39.801633Z",
          "iopub.execute_input": "2025-09-04T09:02:39.801996Z",
          "iopub.status.idle": "2025-09-04T09:02:41.100562Z",
          "shell.execute_reply.started": "2025-09-04T09:02:39.801966Z",
          "shell.execute_reply": "2025-09-04T09:02:41.099719Z"
        },
        "id": "8c1cfe1a-fe10-4fbf-8fd6-7495b78dff0e",
        "outputId": "e35397d5-8d8d-4c2d-811c-8c1ae738c280"
      },
      "outputs": [
        {
          "name": "stderr",
          "text": "/tmp/ipykernel_31/3774981854.py:13: FutureWarning: DataFrame.fillna with 'method' is deprecated and will raise in a future version. Use obj.ffill() or obj.bfill() instead.\n  history = history.fillna(method='ffill').fillna(method='bfill')\n",
          "output_type": "stream"
        },
        {
          "output_type": "display_data",
          "data": {
            "text/plain": "<Figure size 1400x500 with 2 Axes>",
            "image/png": "[encoded data removed]"
          },
          "metadata": {}
        }
      ],
      "execution_count": null
    },
    {
      "id": "b1fbfa6c-36e8-41d1-8eaf-4f8f350b086e",
      "cell_type": "markdown",
      "source": [
        "We can see that training proceeded without problems, with loss decreasing almost identically on the training and validation sets.\n",
        "\n",
        "Now we will train the model obtained after MLM pretraining on our task for $8$ epochs with `learning_rate=2e-5`, `weight_decay=0.01`, as we did before:"
      ],
      "metadata": {
        "id": "b1fbfa6c-36e8-41d1-8eaf-4f8f350b086e"
      }
    },
    {
      "id": "e4f58742-d839-4b56-b340-f362b14e21a4",
      "cell_type": "code",
      "source": [
        "wandb.init(project=\"NLP-spring-2025\", name=\"rubert-mlm-finetuned-run-4\")\n",
        "\n",
        "model = AutoModelForSequenceClassification.from_pretrained(\n",
        "    \"./rubert-mlm-pretrained-model\", num_labels=3\n",
        ")\n",
        "model.resize_token_embeddings(len(tokenizer))\n",
        "\n",
        "training_args = TrainingArguments(\n",
        "    output_dir=\"./results-rubert-mlm-finetune\",\n",
        "    eval_strategy=\"epoch\",\n",
        "    save_strategy=\"epoch\",\n",
        "    learning_rate=2e-5,\n",
        "    per_device_train_batch_size=128,\n",
        "    per_device_eval_batch_size=128,\n",
        "    num_train_epochs=8,\n",
        "    weight_decay=0.01,\n",
        "    logging_steps=50,\n",
        "    save_total_limit=1,\n",
        "    metric_for_best_model=\"f1_macro_filtered\",\n",
        "    greater_is_better=True,\n",
        "    load_best_model_at_end=True,\n",
        "    report_to=\"wandb\"\n",
        ")\n",
        "\n",
        "trainer = Trainer(\n",
        "    model=model,\n",
        "    args=training_args,\n",
        "    train_dataset=train_dataset,\n",
        "    eval_dataset=val_dataset,\n",
        "    tokenizer=tokenizer,\n",
        "    compute_metrics=compute_metrics\n",
        ")\n",
        "\n",
        "trainer.train()"
      ],
      "metadata": {
        "trusted": true,
        "execution": {
          "iopub.status.busy": "2025-05-14T14:02:20.808917Z",
          "iopub.execute_input": "2025-05-14T14:02:20.809221Z",
          "iopub.status.idle": "2025-05-14T14:15:07.518348Z",
          "shell.execute_reply.started": "2025-05-14T14:02:20.809201Z",
          "shell.execute_reply": "2025-05-14T14:15:07.517700Z"
        },
        "id": "e4f58742-d839-4b56-b340-f362b14e21a4",
        "outputId": "d40506cf-1a6c-4c2f-c6d3-779b6d6ee4f6"
      },
      "outputs": [
        {
          "output_type": "display_data",
          "data": {
            "text/plain": "<IPython.core.display.HTML object>",
            "text/html": "Tracking run with wandb version 0.19.6"
          },
          "metadata": {}
        },
        {
          "output_type": "display_data",
          "data": {
            "text/plain": "<IPython.core.display.HTML object>",
            "text/html": "Run data is saved locally in <code>/kaggle/working/wandb/run-20250514_140220-f6ie57fa</code>"
          },
          "metadata": {}
        },
        {
          "output_type": "display_data",
          "data": {
            "text/plain": "<IPython.core.display.HTML object>",
            "text/html": "Syncing run <strong><a href='https://wandb.ai/radyasrn-mipt/NLP-spring-2025/runs/f6ie57fa' target=\"_blank\">rubert-mlm-finetuned-run-4</a></strong> to <a href='https://wandb.ai/radyasrn-mipt/NLP-spring-2025' target=\"_blank\">Weights & Biases</a> (<a href='https://wandb.me/developer-guide' target=\"_blank\">docs</a>)<br>"
          },
          "metadata": {}
        },
        {
          "output_type": "display_data",
          "data": {
            "text/plain": "<IPython.core.display.HTML object>",
            "text/html": " View project at <a href='https://wandb.ai/radyasrn-mipt/NLP-spring-2025' target=\"_blank\">https://wandb.ai/radyasrn-mipt/NLP-spring-2025</a>"
          },
          "metadata": {}
        },
        {
          "output_type": "display_data",
          "data": {
            "text/plain": "<IPython.core.display.HTML object>",
            "text/html": " View run at <a href='https://wandb.ai/radyasrn-mipt/NLP-spring-2025/runs/f6ie57fa' target=\"_blank\">https://wandb.ai/radyasrn-mipt/NLP-spring-2025/runs/f6ie57fa</a>"
          },
          "metadata": {}
        },
        {
          "name": "stderr",
          "text": "Some weights of BertForSequenceClassification were not initialized from the model checkpoint at ./rubert-mlm-pretrained-model and are newly initialized: ['bert.pooler.dense.bias', 'bert.pooler.dense.weight', 'classifier.bias', 'classifier.weight']\nYou should probably TRAIN this model on a down-stream task to be able to use it for predictions and inference.\n/tmp/ipykernel_31/4261808699.py:25: FutureWarning: `tokenizer` is deprecated and will be removed in version 5.0.0 for `Trainer.__init__`. Use `processing_class` instead.\n  trainer = Trainer(\n",
          "output_type": "stream"
        },
        {
          "output_type": "display_data",
          "data": {
            "text/plain": "<IPython.core.display.HTML object>",
            "text/html": "\n    <div>\n      \n      <progress value='416' max='416' style='width:300px; height:20px; vertical-align: middle;'></progress>\n      [416/416 12:03, Epoch 8/8]\n    </div>\n    <table border=\"1\" class=\"dataframe\">\n  <thead>\n <tr style=\"text-align: left;\">\n      <th>Epoch</th>\n      <th>Training Loss</th>\n      <th>Validation Loss</th>\n      <th>F1 Negative</th>\n      <th>F1 Positive</th>\n      <th>F1 Macro Filtered</th>\n    </tr>\n  </thead>\n  <tbody>\n    <tr>\n      <td>1</td>\n      <td>0.742600</td>\n      <td>0.605776</td>\n      <td>0.661269</td>\n      <td>0.010989</td>\n      <td>0.336129</td>\n    </tr>\n    <tr>\n      <td>2</td>\n      <td>0.547400</td>\n      <td>0.521188</td>\n      <td>0.699320</td>\n      <td>0.533589</td>\n      <td>0.616454</td>\n    </tr>\n    <tr>\n      <td>3</td>\n      <td>0.440200</td>\n      <td>0.495143</td>\n      <td>0.723684</td>\n      <td>0.633731</td>\n      <td>0.678708</td>\n    </tr>\n    <tr>\n      <td>4</td>\n      <td>0.367700</td>\n      <td>0.511565</td>\n      <td>0.787158</td>\n      <td>0.600368</td>\n      <td>0.693763</td>\n    </tr>\n    <tr>\n      <td>5</td>\n      <td>0.299700</td>\n      <td>0.533720</td>\n      <td>0.755280</td>\n      <td>0.605072</td>\n      <td>0.680176</td>\n    </tr>\n    <tr>\n      <td>6</td>\n      <td>0.240700</td>\n      <td>0.556986</td>\n      <td>0.773171</td>\n      <td>0.629174</td>\n      <td>0.701172</td>\n    </tr>\n    <tr>\n      <td>7</td>\n      <td>0.205000</td>\n      <td>0.574023</td>\n      <td>0.753512</td>\n      <td>0.629565</td>\n      <td>0.691539</td>\n    </tr>\n    <tr>\n      <td>8</td>\n      <td>0.185900</td>\n      <td>0.589109</td>\n      <td>0.748744</td>\n      <td>0.632689</td>\n      <td>0.690716</td>\n    </tr>\n  </tbody>\n</table><p>"
          },
          "metadata": {}
        },
        {
          "execution_count": 46,
          "output_type": "execute_result",
          "data": {
            "text/plain": "TrainOutput(global_step=416, training_loss=0.37049141354285753, metrics={'train_runtime': 724.1141, 'train_samples_per_second': 73.325, 'train_steps_per_second': 0.574, 'total_flos': 3492567506921472.0, 'train_loss': 0.37049141354285753, 'epoch': 8.0})"
          },
          "metadata": {}
        }
      ],
      "execution_count": null
    },
    {
      "id": "8139764b-5a44-4307-8661-974534fdd841",
      "cell_type": "markdown",
      "source": [
        "Then we will finish the run:"
      ],
      "metadata": {
        "id": "8139764b-5a44-4307-8661-974534fdd841"
      }
    },
    {
      "id": "f2842219-6c29-4669-bd12-9f4eeff5da11",
      "cell_type": "code",
      "source": [
        "wandb.finish()"
      ],
      "metadata": {
        "trusted": true,
        "execution": {
          "iopub.status.busy": "2025-05-14T14:16:36.441329Z",
          "iopub.execute_input": "2025-05-14T14:16:36.441615Z",
          "iopub.status.idle": "2025-05-14T14:16:36.445514Z",
          "shell.execute_reply.started": "2025-05-14T14:16:36.441595Z",
          "shell.execute_reply": "2025-05-14T14:16:36.444757Z"
        },
        "id": "f2842219-6c29-4669-bd12-9f4eeff5da11"
      },
      "outputs": [],
      "execution_count": null
    },
    {
      "id": "1106fbc4-269a-42e1-867b-00d393d2e30d",
      "cell_type": "markdown",
      "source": [
        "And then save the model:"
      ],
      "metadata": {
        "id": "1106fbc4-269a-42e1-867b-00d393d2e30d"
      }
    },
    {
      "id": "0b0e1b51-6e1c-43d8-81ba-3a98e13c8988",
      "cell_type": "code",
      "source": [
        "trainer.save_model(\"./rubert-mlm-finetuned-model\")\n",
        "tokenizer.save_pretrained(\"./rubert-mlm-finetuned-model\")"
      ],
      "metadata": {
        "trusted": true,
        "execution": {
          "iopub.status.busy": "2025-05-14T14:16:54.152970Z",
          "iopub.execute_input": "2025-05-14T14:16:54.153504Z",
          "iopub.status.idle": "2025-05-14T14:16:55.720273Z",
          "shell.execute_reply.started": "2025-05-14T14:16:54.153476Z",
          "shell.execute_reply": "2025-05-14T14:16:55.719608Z"
        },
        "id": "0b0e1b51-6e1c-43d8-81ba-3a98e13c8988",
        "outputId": "131301fe-fdb9-474f-aeef-cc8afa200d74"
      },
      "outputs": [
        {
          "execution_count": 49,
          "output_type": "execute_result",
          "data": {
            "text/plain": "('./rubert-mlm-finetuned-model/tokenizer_config.json',\n './rubert-mlm-finetuned-model/special_tokens_map.json',\n './rubert-mlm-finetuned-model/vocab.txt',\n './rubert-mlm-finetuned-model/added_tokens.json',\n './rubert-mlm-finetuned-model/tokenizer.json')"
          },
          "metadata": {}
        }
      ],
      "execution_count": null
    },
    {
      "id": "8c4fdfb4-9575-4c06-9827-5b0af2954c51",
      "cell_type": "markdown",
      "source": [
        "Let's look at the training history:"
      ],
      "metadata": {
        "id": "8c4fdfb4-9575-4c06-9827-5b0af2954c51"
      }
    },
    {
      "id": "635bceac-d9a2-4375-93af-060c36d4f1e9",
      "cell_type": "code",
      "source": [
        "plot_wandb_metrics(\n",
        "    run_path='radyasrn-mipt/NLP-spring-2025/f6ie57fa',\n",
        "    metric_keys=['eval/f1_negative', 'eval/f1_positive', 'eval/f1_macro_filtered'],\n",
        "    title_suffix='F1'\n",
        ")"
      ],
      "metadata": {
        "trusted": true,
        "execution": {
          "iopub.status.busy": "2025-09-04T09:02:49.010799Z",
          "iopub.execute_input": "2025-09-04T09:02:49.011110Z",
          "iopub.status.idle": "2025-09-04T09:02:50.294765Z",
          "shell.execute_reply.started": "2025-09-04T09:02:49.011090Z",
          "shell.execute_reply": "2025-09-04T09:02:50.293913Z"
        },
        "id": "635bceac-d9a2-4375-93af-060c36d4f1e9",
        "outputId": "8acba0de-7326-4a1b-d321-ed1ee910d1c3"
      },
      "outputs": [
        {
          "name": "stderr",
          "text": "/tmp/ipykernel_31/3774981854.py:13: FutureWarning: DataFrame.fillna with 'method' is deprecated and will raise in a future version. Use obj.ffill() or obj.bfill() instead.\n  history = history.fillna(method='ffill').fillna(method='bfill')\n",
          "output_type": "stream"
        },
        {
          "output_type": "display_data",
          "data": {
            "text/plain": "<Figure size 1400x500 with 2 Axes>",
            "image/png": "[encoded data removed]"
          },
          "metadata": {}
        }
      ],
      "execution_count": null
    },
    {
      "id": "8bea5ea9-6fb2-4fb2-965b-f605aaf0d687",
      "cell_type": "markdown",
      "source": [
        "We can see that the metrics plot is very similar to the metrics plot from the first model.\n",
        "\n",
        "Let's look at some examples of predictions:"
      ],
      "metadata": {
        "id": "8bea5ea9-6fb2-4fb2-965b-f605aaf0d687"
      }
    },
    {
      "id": "105d1826-9a5b-480e-b76e-55b84661e3e7",
      "cell_type": "code",
      "source": [
        "model = AutoModelForSequenceClassification.from_pretrained(\n",
        "    \"./rubert-mlm-finetuned-model\", num_labels=3\n",
        ")\n",
        "model.resize_token_embeddings(len(tokenizer))\n",
        "\n",
        "metrics_after_mlm_pretrain = analyze_predictions(\n",
        "    model=model,\n",
        "    dataset=val_dataset,\n",
        "    raw_df=val_df,\n",
        "    text_column=\"sentence\",\n",
        "    label_column=\"label\",\n",
        "    entity_column=\"entity\",\n",
        "    batch_size=64,\n",
        "    n_examples=5\n",
        ")\n",
        "metrics_after_mlm_pretrain"
      ],
      "metadata": {
        "trusted": true,
        "execution": {
          "iopub.status.busy": "2025-09-04T08:43:49.751995Z",
          "iopub.execute_input": "2025-09-04T08:43:49.752295Z",
          "iopub.status.idle": "2025-09-04T08:44:00.276486Z",
          "shell.execute_reply.started": "2025-09-04T08:43:49.752273Z",
          "shell.execute_reply": "2025-09-04T08:44:00.275595Z"
        },
        "colab": {
          "referenced_widgets": [
            ""
          ]
        },
        "id": "105d1826-9a5b-480e-b76e-55b84661e3e7",
        "outputId": "9c50d115-9e5c-4b36-f33c-b1eff83b85a1"
      },
      "outputs": [
        {
          "output_type": "display_data",
          "data": {
            "text/plain": "  0%|          | 0/45 [00:00<?, ?it/s]",
            "application/vnd.jupyter.widget-view+json": {
              "version_major": 2,
              "version_minor": 0,
              "model_id": ""
            }
          },
          "metadata": {}
        },
        {
          "name": "stdout",
          "text": "\nCorrect predictions:\n- Text: Войны не будет: Трамп заинтересован в мирном разрешении кризиса c КНДР\n  Entity: КНДР\n  True label: 2, Prediction: 2\n\n- Text: Победа ХАМАС дает неплохие шансы израильским радикалам - противникам мирного процесса на выборах в марте 2006 г.\n  Entity: ХАМАС\n  True label: 2, Prediction: 2\n\n- Text: 22 марта 2015 года в московской больнице на 82-м году жизни умер писатель-сатирик Аркадий Арканов.\n  Entity: Аркадий Арканов\n  True label: 2, Prediction: 2\n\n- Text: Свыше 28 последних лет вождь прилагает много усилий ради достижения освобождения Пелтиера и является членом Комитета защиты Леонарда Пелтиера.\n  Entity: Леонарда Пелтиера\n  True label: 2, Prediction: 2\n\n- Text: Так, три года назад картину Дали нашли благодаря усилиям следователей в Нидерландах и уважению представителей местного криминала к искусству (оказалось, что кража предметов искусства, среди голландских воров – страшный проступок).\n  Entity: Дали\n  True label: 2, Prediction: 2\n\n\nWrong predictions:\n- Text: Инженер нефтесервисного концерна Hulliburton Джесси Гальяно заявил об этом под присягой, выступая в роли свидетеля по делу против British Petroleum, которое ведёт береговая охрана США и департамент внутренних дел.\n  Entity: департамент внутренних дел\n  True label: 2, Prediction: 0\n\n- Text: Турция потребовала, чтобы США экстрадировали 75-летнего Гюлена, и направила американским властям документы, якобы указывающие на его причастность к перевороту.\n  Entity: США\n  True label: 2, Prediction: 0\n\n- Text: Махмуд Аббас объявил о заморозке контактов с Израилем на всех уровнях\n  Entity: Махмуд Аббас\n  True label: 2, Prediction: 0\n\n- Text: И уж тем более не думал, что Мелинде придётся просить меня перестать говорить о туалетах и отходах за обеденным столом.\n  Entity: Мелинде\n  True label: 2, Prediction: 0\n\n- Text: Министерство иностранных дел Китая заявило, что Вашингтон вмешивается во внутренние дела Сальвадора.\n  Entity: Сальвадора\n  True label: 2, Prediction: 0\n\n",
          "output_type": "stream"
        },
        {
          "name": "stderr",
          "text": "/tmp/ipykernel_31/3206778358.py:45: RuntimeWarning: invalid value encountered in cast\n  labels_np = labels.numpy().astype(int)\n",
          "output_type": "stream"
        },
        {
          "execution_count": 19,
          "output_type": "execute_result",
          "data": {
            "text/plain": "{'f1_negative': 0.0,\n 'f1_positive': 0.08523461041756349,\n 'f1_macro_filtered': 0.04261730520878174}"
          },
          "metadata": {}
        }
      ],
      "execution_count": null
    },
    {
      "id": "696cd883-299a-4389-87c9-e29f71092e2e",
      "cell_type": "markdown",
      "source": [
        "We see that MLM pre-training has slightly reduced quality compared to the baseline."
      ],
      "metadata": {
        "id": "696cd883-299a-4389-87c9-e29f71092e2e"
      }
    },
    {
      "cell_type": "markdown",
      "source": [
        "<a name=\"step-3-rubert-model-with-entity-tokens-pooling\"></a>\n",
        "<b><font size=4>**Step $3$</font></b> <b><font size=2>(RuBERT Model with Entity Tokens Pooling):**</font></b>"
      ],
      "metadata": {
        "id": "0Ir_P1iuJw90"
      },
      "id": "0Ir_P1iuJw90"
    },
    {
      "id": "60ea7e6d-0e57-4aa8-9fdf-d9cda6e0107a",
      "cell_type": "markdown",
      "source": [
        "In this step, we will create a model that will be similar to the baseline, except for the last classification layer. We will not simply make a prediction on the `[CLS]` token, but rather obtain weights for entity tokens through a linear layer and softmax, calculate the weighted sum of embeddings, and then perform classification based on the resulting outcome.\n",
        "\n",
        "First, let's write a function for tokenization:"
      ],
      "metadata": {
        "id": "60ea7e6d-0e57-4aa8-9fdf-d9cda6e0107a"
      }
    },
    {
      "id": "7bfab768-967e-4040-8639-762a5afbb863",
      "cell_type": "code",
      "source": [
        "def tokenize(example):\n",
        "    \"\"\"\n",
        "    Tokenizes the input text and creates a binary mask for entity tokens\n",
        "    using torch. The mask is equal to 1 at the positions of tokens between [ENTITY] and [/ENTITY].\n",
        "\n",
        "    :param example: dictionary with the field “input_text”\n",
        "    :return: dictionary with input_ids, attention_mask, entity_mask\n",
        "    \"\"\"\n",
        "    tokenized_data = tokenizer(\n",
        "        example[\"input_text\"],\n",
        "        padding=\"max_length\",\n",
        "        truncation=True,\n",
        "        max_length=128\n",
        "    )\n",
        "    input_ids_list = tokenized_data[\"input_ids\"]\n",
        "\n",
        "    entity_mask_tensor = torch.zeros(len(input_ids_list), dtype=torch.long)\n",
        "\n",
        "    ent_start_token_id = tokenizer.convert_tokens_to_ids(\"[ENTITY]\")\n",
        "    ent_end_token_id = tokenizer.convert_tokens_to_ids(\"[/ENTITY]\")\n",
        "\n",
        "    try:\n",
        "        entity_start_index = input_ids_list.index(ent_start_token_id) + 1\n",
        "        entity_end_index = input_ids_list.index(ent_end_token_id)\n",
        "\n",
        "        if entity_start_index < entity_end_index:\n",
        "            entity_mask_tensor[entity_start_index:entity_end_index] = 1\n",
        "    except ValueError:\n",
        "        pass\n",
        "\n",
        "    if entity_mask_tensor.sum() == 0 and len(input_ids_list) > 0:\n",
        "        entity_mask_tensor[0] = 1\n",
        "\n",
        "    tokenized_data[\"entity_mask\"] = entity_mask_tensor\n",
        "    return tokenized_data"
      ],
      "metadata": {
        "trusted": true,
        "execution": {
          "iopub.status.busy": "2025-09-04T08:55:18.802595Z",
          "iopub.execute_input": "2025-09-04T08:55:18.802923Z",
          "iopub.status.idle": "2025-09-04T08:55:18.810284Z",
          "shell.execute_reply.started": "2025-09-04T08:55:18.802898Z",
          "shell.execute_reply": "2025-09-04T08:55:18.809238Z"
        },
        "id": "7bfab768-967e-4040-8639-762a5afbb863"
      },
      "outputs": [],
      "execution_count": null
    },
    {
      "id": "5675af96-22b2-4a2c-8c56-0341dbe3263c",
      "cell_type": "markdown",
      "source": [
        "Then we will create the datasets:"
      ],
      "metadata": {
        "id": "5675af96-22b2-4a2c-8c56-0341dbe3263c"
      }
    },
    {
      "id": "e30d798a-c07b-494a-a5e0-6ec579df4136",
      "cell_type": "code",
      "source": [
        "train_dataset = Dataset.from_pandas(train_df[[\"input_text\", \"label\"]])\n",
        "val_dataset = Dataset.from_pandas(val_df[[\"input_text\", \"label\"]])\n",
        "\n",
        "train_dataset = train_dataset.map(tokenize).remove_columns([\"input_text\"])\n",
        "val_dataset = val_dataset.map(tokenize).remove_columns([\"input_text\"])\n",
        "train_dataset.set_format(\"torch\")\n",
        "val_dataset.set_format(\"torch\")"
      ],
      "metadata": {
        "trusted": true,
        "execution": {
          "iopub.status.busy": "2025-09-04T08:55:24.777292Z",
          "iopub.execute_input": "2025-09-04T08:55:24.778095Z",
          "iopub.status.idle": "2025-09-04T08:55:31.283792Z",
          "shell.execute_reply.started": "2025-09-04T08:55:24.778066Z",
          "shell.execute_reply": "2025-09-04T08:55:31.282942Z"
        },
        "colab": {
          "referenced_widgets": [
            "b9ec5d6445a24f57863d4915b27ff300",
            "0319564486ba4fbeac40ee7933db4957"
          ]
        },
        "id": "e30d798a-c07b-494a-a5e0-6ec579df4136",
        "outputId": "ee83389e-b257-4332-855e-d87ec9dafcb2"
      },
      "outputs": [
        {
          "output_type": "display_data",
          "data": {
            "text/plain": "Map:   0%|          | 0/6637 [00:00<?, ? examples/s]",
            "application/vnd.jupyter.widget-view+json": {
              "version_major": 2,
              "version_minor": 0,
              "model_id": "b9ec5d6445a24f57863d4915b27ff300"
            }
          },
          "metadata": {}
        },
        {
          "output_type": "display_data",
          "data": {
            "text/plain": "Map:   0%|          | 0/2845 [00:00<?, ? examples/s]",
            "application/vnd.jupyter.widget-view+json": {
              "version_major": 2,
              "version_minor": 0,
              "model_id": "0319564486ba4fbeac40ee7933db4957"
            }
          },
          "metadata": {}
        }
      ],
      "execution_count": null
    },
    {
      "id": "005d2881-6c9a-4ea2-aa20-0269cb0f6e24",
      "cell_type": "markdown",
      "source": [
        "We will run training, as in previous models, for $8$ epochs with `learning_rate=2e-5`, `weight_decay=0.01`:"
      ],
      "metadata": {
        "id": "005d2881-6c9a-4ea2-aa20-0269cb0f6e24"
      }
    },
    {
      "id": "37566e06-2b52-4265-a9f5-42658f62bd4f",
      "cell_type": "code",
      "source": [
        "wandb.init(project=\"NLP-spring-2025\", name=\"rubert-attention-pooling-run-20\")\n",
        "\n",
        "model = BertEntitySentimentClassifier(model_checkpoint, tokenizer, num_labels=3)\n",
        "\n",
        "training_args = TrainingArguments(\n",
        "    output_dir=\"./results-rubert-attention-pooling\",\n",
        "    eval_strategy=\"epoch\",\n",
        "    save_strategy=\"epoch\",\n",
        "    learning_rate=2e-5,\n",
        "    per_device_train_batch_size=128,\n",
        "    per_device_eval_batch_size=128,\n",
        "    num_train_epochs=8,\n",
        "    weight_decay=0.01,\n",
        "    logging_steps=50,\n",
        "    metric_for_best_model=\"f1_macro_filtered\",\n",
        "    greater_is_better=True,\n",
        "    load_best_model_at_end=True,\n",
        "    save_total_limit=1,\n",
        "    report_to=\"wandb\"\n",
        ")\n",
        "\n",
        "trainer = Trainer(\n",
        "    model=model,\n",
        "    args=training_args,\n",
        "    train_dataset=train_dataset,\n",
        "    eval_dataset=val_dataset,\n",
        "    tokenizer=tokenizer,\n",
        "    compute_metrics=compute_metrics\n",
        ")\n",
        "\n",
        "trainer.train()"
      ],
      "metadata": {
        "trusted": true,
        "id": "37566e06-2b52-4265-a9f5-42658f62bd4f"
      },
      "outputs": [],
      "execution_count": null
    },
    {
      "id": "232d510e-2adb-4d68-82b9-823c13b7a2a1",
      "cell_type": "markdown",
      "source": [
        "Then we will finish the run:"
      ],
      "metadata": {
        "id": "232d510e-2adb-4d68-82b9-823c13b7a2a1"
      }
    },
    {
      "id": "d9e3609d-6a20-4b27-af5e-f8393863ff17",
      "cell_type": "code",
      "source": [
        "wandb.finish()"
      ],
      "metadata": {
        "trusted": true,
        "id": "d9e3609d-6a20-4b27-af5e-f8393863ff17"
      },
      "outputs": [],
      "execution_count": null
    },
    {
      "id": "b1236003-7706-4460-a33c-b1a71b58d6f3",
      "cell_type": "markdown",
      "source": [
        "And then save the model:"
      ],
      "metadata": {
        "id": "b1236003-7706-4460-a33c-b1a71b58d6f3"
      }
    },
    {
      "id": "34986685-50f1-4e10-8659-04515764fd9c",
      "cell_type": "code",
      "source": [
        "trainer.save_model(\"./rubert-attention-pooling-model\")\n",
        "tokenizer.save_pretrained(\"./rubert-attention-pooling-model\")"
      ],
      "metadata": {
        "trusted": true,
        "execution": {
          "iopub.status.busy": "2025-05-14T18:48:39.072822Z",
          "iopub.execute_input": "2025-05-14T18:48:39.073128Z",
          "iopub.status.idle": "2025-05-14T18:48:41.173071Z",
          "shell.execute_reply.started": "2025-05-14T18:48:39.073103Z",
          "shell.execute_reply": "2025-05-14T18:48:41.172311Z"
        },
        "id": "34986685-50f1-4e10-8659-04515764fd9c",
        "outputId": "a2ecd440-e4fb-4071-982e-bcb600bcbd6e"
      },
      "outputs": [
        {
          "execution_count": 104,
          "output_type": "execute_result",
          "data": {
            "text/plain": "('./rubert-attention-pooling-model/tokenizer_config.json',\n './rubert-attention-pooling-model/special_tokens_map.json',\n './rubert-attention-pooling-model/vocab.txt',\n './rubert-attention-pooling-model/added_tokens.json',\n './rubert-attention-pooling-model/tokenizer.json')"
          },
          "metadata": {}
        }
      ],
      "execution_count": null
    },
    {
      "id": "4e8e71ec-6ccc-4b6d-b639-509cfb64b432",
      "cell_type": "markdown",
      "source": [
        "Let's look at the training history:"
      ],
      "metadata": {
        "id": "4e8e71ec-6ccc-4b6d-b639-509cfb64b432"
      }
    },
    {
      "id": "4ff85a08-5de5-4b38-a53c-f0b6f0492e91",
      "cell_type": "code",
      "source": [
        "plot_wandb_metrics(\n",
        "    run_path='radyasrn-mipt/NLP-spring-2025/5i4sv8uy',\n",
        "    metric_keys=['eval/f1_negative', 'eval/f1_positive', 'eval/f1_macro_filtered'],\n",
        "    title_suffix='F1'\n",
        ")"
      ],
      "metadata": {
        "trusted": true,
        "execution": {
          "iopub.status.busy": "2025-09-04T09:02:56.197504Z",
          "iopub.execute_input": "2025-09-04T09:02:56.197805Z",
          "iopub.status.idle": "2025-09-04T09:02:57.643353Z",
          "shell.execute_reply.started": "2025-09-04T09:02:56.197777Z",
          "shell.execute_reply": "2025-09-04T09:02:57.642555Z"
        },
        "id": "4ff85a08-5de5-4b38-a53c-f0b6f0492e91",
        "outputId": "feed851a-c8dd-46a3-e180-edd95750f7a5"
      },
      "outputs": [
        {
          "name": "stderr",
          "text": "/tmp/ipykernel_31/3774981854.py:13: FutureWarning: DataFrame.fillna with 'method' is deprecated and will raise in a future version. Use obj.ffill() or obj.bfill() instead.\n  history = history.fillna(method='ffill').fillna(method='bfill')\n",
          "output_type": "stream"
        },
        {
          "output_type": "display_data",
          "data": {
            "text/plain": "<Figure size 1400x500 with 2 Axes>",
            "image/png": "[encoded data removed]"
          },
          "metadata": {}
        }
      ],
      "execution_count": null
    },
    {
      "id": "c8791dd3-821c-4519-93e3-05788f13e44e",
      "cell_type": "markdown",
      "source": [
        "Now let's look at the prediction examples:"
      ],
      "metadata": {
        "id": "c8791dd3-821c-4519-93e3-05788f13e44e"
      }
    },
    {
      "id": "45f9065e-6350-4e61-87ce-e612399ef32e",
      "cell_type": "code",
      "source": [
        "tokenizer = AutoTokenizer.from_pretrained(\"./rubert-attention-pooling-model\")\n",
        "\n",
        "model = BertEntitySentimentClassifier(\n",
        "    model_checkpoint=\"DeepPavlov/rubert-base-cased\",\n",
        "    tokenizer=tokenizer,\n",
        "    num_labels=3\n",
        ")\n",
        "\n",
        "state_dict = load_file(\"./rubert-attention-pooling-model/model.safetensors\")\n",
        "model.load_state_dict(state_dict)\n",
        "\n",
        "model.eval()\n",
        "model.cuda()\n",
        "\n",
        "metrics_after_attention_pooling = analyze_predictions(\n",
        "    model=model,\n",
        "    dataset=val_dataset,\n",
        "    raw_df=val_df,\n",
        "    text_column=\"sentence\",\n",
        "    label_column=\"label\",\n",
        "    entity_column=\"entity\",\n",
        "    batch_size=64,\n",
        "    n_examples=5\n",
        ")\n",
        "metrics_after_attention_pooling"
      ],
      "metadata": {
        "trusted": true,
        "execution": {
          "iopub.status.busy": "2025-09-04T08:56:38.211565Z",
          "iopub.execute_input": "2025-09-04T08:56:38.211894Z",
          "iopub.status.idle": "2025-09-04T08:56:52.611238Z",
          "shell.execute_reply.started": "2025-09-04T08:56:38.211871Z",
          "shell.execute_reply": "2025-09-04T08:56:52.610547Z"
        },
        "colab": {
          "referenced_widgets": [
            ""
          ]
        },
        "id": "45f9065e-6350-4e61-87ce-e612399ef32e",
        "outputId": "59d048c0-fe39-4f3a-95ff-15179341d113"
      },
      "outputs": [
        {
          "name": "stderr",
          "text": "Some weights of the model checkpoint at DeepPavlov/rubert-base-cased were not used when initializing BertModel: ['cls.predictions.bias', 'cls.predictions.decoder.bias', 'cls.predictions.decoder.weight', 'cls.predictions.transform.LayerNorm.bias', 'cls.predictions.transform.LayerNorm.weight', 'cls.predictions.transform.dense.bias', 'cls.predictions.transform.dense.weight', 'cls.seq_relationship.bias', 'cls.seq_relationship.weight']\n- This IS expected if you are initializing BertModel from the checkpoint of a model trained on another task or with another architecture (e.g. initializing a BertForSequenceClassification model from a BertForPreTraining model).\n- This IS NOT expected if you are initializing BertModel from the checkpoint of a model that you expect to be exactly identical (initializing a BertForSequenceClassification model from a BertForSequenceClassification model).\n",
          "output_type": "stream"
        },
        {
          "output_type": "display_data",
          "data": {
            "text/plain": "  0%|          | 0/45 [00:00<?, ?it/s]",
            "application/vnd.jupyter.widget-view+json": {
              "version_major": 2,
              "version_minor": 0,
              "model_id": ""
            }
          },
          "metadata": {}
        },
        {
          "name": "stdout",
          "text": "\nCorrect predictions:\n- Text: Итальянская пресса отмечает: ''«на протяжении долгой истории этих особых отношений Берлускони и Путин занимали различные государственные должности, но всегда находили повод для встреч: они советовались друг с другом, в их отношениях была гармония вне зависимости от официальных обязанностей или вызывающих подозрение личных мотивов»''.\n  Entity: Берлускони\n  True label: 2, Prediction: 2\n\n- Text: Демидов высоко оценил качество изданного лейблом Геометрия релиза, заявил, что исполнил свою мечту — «писать альбомы, как романы» и что в песне «Живём в лесу» явлен мир, идеальный для хронопа.\n  Entity: хронопа\n  True label: 2, Prediction: 2\n\n- Text: Лэнса Армстронга лишили всех побед на «Тур де Франс»\n  Entity: Лэнса Армстронга\n  True label: 2, Prediction: 2\n\n- Text: Об этом 30 апреля 2018 года сообщается на сайте миссии НАТО «Решительная поддержка».\n  Entity: Решительная поддержка\n  True label: 2, Prediction: 2\n\n- Text: В Москве начались съёмки художественного фильма «Доктор Лиза», посвящённого жизни Елизаветы Глинки.\n  Entity: Елизаветы Глинки\n  True label: 2, Prediction: 2\n\n\nWrong predictions:\n- Text: Арестованный в Греции в прошлом году Александр Винник, обвиняемый властями США в отмывании крупных денежных сумм с помощью криптобиржи BTC-e, написал признание в Генпрокуратуру РФ.\n  Entity: Генпрокуратуру РФ\n  True label: 2, Prediction: 0\n\n- Text: Россия приветствует лишь один сценарий, конструктивный диалог правительства Сирии и оппозиции без иностранного вмешательства.\n  Entity: Россия\n  True label: 2, Prediction: 0\n\n- Text: Весной 2000 года Рено санкционировала вооруженный захват пятилетнего мальчика Элиана, что возмутило американцев кубинского происхождения из её родного города.\n  Entity: Элиана\n  True label: 2, Prediction: 0\n\n- Text: Младич был удален из зала суда в Гааге в связи с проявлением у него вспышки гнева.\n  Entity: Младич\n  True label: 2, Prediction: 0\n\n- Text: Махмуд Аббас объявил о заморозке контактов с Израилем на всех уровнях\n  Entity: Израилем\n  True label: 2, Prediction: 0\n\n",
          "output_type": "stream"
        },
        {
          "name": "stderr",
          "text": "/tmp/ipykernel_31/3206778358.py:45: RuntimeWarning: invalid value encountered in cast\n  labels_np = labels.numpy().astype(int)\n",
          "output_type": "stream"
        },
        {
          "execution_count": 28,
          "output_type": "execute_result",
          "data": {
            "text/plain": "{'f1_negative': 0.0,\n 'f1_positive': 0.07130434782608695,\n 'f1_macro_filtered': 0.035652173913043476}"
          },
          "metadata": {}
        }
      ],
      "execution_count": null
    },
    {
      "cell_type": "markdown",
      "source": [
        "<a name=\"step-4-final-comparison-of-models\"></a>\n",
        "<b><font size=3>**Step $4$</font></b> <b><font size=2>(Final Comparison of Models):**</font></b>"
      ],
      "metadata": {
        "id": "d1cm0dPrJ-RX"
      },
      "id": "d1cm0dPrJ-RX"
    },
    {
      "id": "017eb68f-7954-470f-afe0-a9cce5d47530",
      "cell_type": "markdown",
      "source": [
        "In this step, we will look at the final results:"
      ],
      "metadata": {
        "id": "017eb68f-7954-470f-afe0-a9cce5d47530"
      }
    },
    {
      "id": "8969ae75-2419-4fd3-b5e4-21c5d8e0231b",
      "cell_type": "code",
      "source": [
        "records = [\n",
        "    {\"model\": \"baseline\", **metrics_baseline},\n",
        "    {\"model\": \"mlm_pretrained\", **metrics_after_mlm_pretrain},\n",
        "    {\"model\": \"attention_pooling\", **metrics_after_attention_pooling},\n",
        "]\n",
        "\n",
        "records = pd.DataFrame(records)\n",
        "records = records.round(2)\n",
        "records"
      ],
      "metadata": {
        "trusted": true,
        "execution": {
          "iopub.status.busy": "2025-05-14T19:59:25.186920Z",
          "iopub.execute_input": "2025-05-14T19:59:25.187662Z",
          "iopub.status.idle": "2025-05-14T19:59:25.198432Z",
          "shell.execute_reply.started": "2025-05-14T19:59:25.187636Z",
          "shell.execute_reply": "2025-05-14T19:59:25.197870Z"
        },
        "id": "8969ae75-2419-4fd3-b5e4-21c5d8e0231b",
        "outputId": "30c35d32-6b80-4ac9-f29c-6ed394af3cf7"
      },
      "outputs": [
        {
          "execution_count": 161,
          "output_type": "execute_result",
          "data": {
            "text/plain": "               model  f1_negative  f1_positive  f1_macro_filtered\n0           baseline         0.77         0.67               0.72\n1     mlm_pretrained         0.77         0.63               0.70\n2  attention_pooling         0.73         0.62               0.68",
            "text/html": "<div>\n<style scoped>\n    .dataframe tbody tr th:only-of-type {\n        vertical-align: middle;\n    }\n\n    .dataframe tbody tr th {\n        vertical-align: top;\n    }\n\n    .dataframe thead th {\n        text-align: right;\n    }\n</style>\n<table border=\"1\" class=\"dataframe\">\n  <thead>\n    <tr style=\"text-align: right;\">\n      <th></th>\n      <th>model</th>\n      <th>f1_negative</th>\n      <th>f1_positive</th>\n      <th>f1_macro_filtered</th>\n    </tr>\n  </thead>\n  <tbody>\n    <tr>\n      <th>0</th>\n      <td>baseline</td>\n      <td>0.77</td>\n      <td>0.67</td>\n      <td>0.72</td>\n    </tr>\n    <tr>\n      <th>1</th>\n      <td>mlm_pretrained</td>\n      <td>0.77</td>\n      <td>0.63</td>\n      <td>0.70</td>\n    </tr>\n    <tr>\n      <th>2</th>\n      <td>attention_pooling</td>\n      <td>0.73</td>\n      <td>0.62</td>\n      <td>0.68</td>\n    </tr>\n  </tbody>\n</table>\n</div>"
          },
          "metadata": {}
        }
      ],
      "execution_count": null
    },
    {
      "id": "e1c34064-5856-4691-85fc-86f53256f5d7",
      "cell_type": "markdown",
      "source": [
        "* We can see that the quality of the models is almost the same. The baseline is the best, followed by the model after MLM pretraining, then the model with attention pooling.\n",
        "\n",
        "* Most likely, the second model is of poorer quality because MLM pretraining is too different from our downstream task.\n",
        "\n",
        "* The third model has worse quality, most likely because the `[CLS]` token of the first model contains much more information about the entity than any weighted sum of entity token representations, possibly due to mixing interference."
      ],
      "metadata": {
        "id": "e1c34064-5856-4691-85fc-86f53256f5d7"
      }
    }
  ]
}